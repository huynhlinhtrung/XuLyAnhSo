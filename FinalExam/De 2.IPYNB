{
 "cells": [
  {
   "cell_type": "markdown",
   "id": "d2c597bb",
   "metadata": {},
   "source": [
    "# Huỳnh Linh Trung\n",
    "# 197CT22641"
   ]
  },
  {
   "cell_type": "markdown",
   "id": "6fccdb0c",
   "metadata": {},
   "source": [
    "### Câu 1 (2 điểm): Cho một ảnh bất kỳ (tên ảnh do sinh viên tự đặt, ví dụ: `my_image.jpg`) và thực hiện các yêu cầu sau:\n",
    "\n",
    "* Viết chương trình sử dụng Bilateral filter để làm mịn ảnh. (0.5 điểm)  \n",
    "* Viết chương trình sử dụng Canny Edge Detection để xác định biên của hình ảnh. (0.5 điểm)  \n",
    "* Đổi màu ảnh bằng cách hoán đổi kênh màu theo thứ tự (ví dụ: BGR → BRG) và lưu thành tên dạng `[ten_anh]_swapped.jpg`. (0.5 điểm)  \n",
    "* Chuyển ảnh sang không gian màu YCrCb và tách riêng 3 kênh Y, Cr, Cb, lưu thành ảnh grayscale tương ứng (`[ten_anh]_Y.jpg`, `[ten_anh]_Cr.jpg`, `[ten_anh]_Cb.jpg`). (0.5 điểm)\n"
   ]
  },
  {
   "cell_type": "code",
   "execution_count": 10,
   "id": "48575318",
   "metadata": {},
   "outputs": [
    {
     "name": "stdout",
     "output_type": "stream",
     "text": [
      "Đã lưu ảnh làm mịn tại 'cau1.1_bilateral.jpg'\n"
     ]
    }
   ],
   "source": [
    "#1.1.Viết chương trình sử dụng Bilateral filter để làm mịn ảnh\n",
    "import cv2\n",
    "\n",
    "# Bước 1: Đọc ảnh gốc \n",
    "image = cv2.imread(\"cau1.jpg\")\n",
    "\n",
    "# Bước 2: Áp dụng bộ lọc Bilateral để làm mịn nhưng vẫn giữ viền cạnh rõ\n",
    "bilateral_filtered = cv2.bilateralFilter(\n",
    "    image,\n",
    "    d=9,             # Đường kính pixel vùng lân cận\n",
    "    sigmaColor=75,   # Độ lệch chuẩn cho không gian màu\n",
    "    sigmaSpace=75    # Độ lệch chuẩn cho không gian tọa độ\n",
    ")\n",
    "\n",
    "# Bước 3: Lưu kết quả ra file\n",
    "cv2.imwrite(\"cau1.1_bilateral.jpg\", bilateral_filtered)\n",
    "\n",
    "# Thông báo hoàn tất\n",
    "print(\"Đã lưu ảnh làm mịn tại 'cau1.1_bilateral.jpg'\")\n",
    "\n"
   ]
  },
  {
   "cell_type": "code",
   "execution_count": 11,
   "id": "afd199fd",
   "metadata": {},
   "outputs": [
    {
     "name": "stdout",
     "output_type": "stream",
     "text": [
      "Đã lưu ảnh biên cạnh tại 'cau1.2_canny_edges.jpg'\n"
     ]
    }
   ],
   "source": [
    "#1.2.Viết chương trình sử dụng Canny Edge Detection để xác định biên của hình ảnh\n",
    "\n",
    "import cv2\n",
    "\n",
    "# Bước 1: Đọc ảnh gốc \n",
    "image = cv2.imread(\"cau1.jpg\")\n",
    "\n",
    "# Kiểm tra ảnh đã đọc thành công chưa\n",
    "if image is None:\n",
    "    print(\"Không tìm thấy ảnh! Vui lòng kiểm tra tên file hoặc đường dẫn.\")\n",
    "    exit()\n",
    "\n",
    "# Bước 2: Chuyển ảnh sang grayscale (ảnh xám)\n",
    "gray_image = cv2.cvtColor(image, cv2.COLOR_BGR2GRAY)\n",
    "\n",
    "# Bước 3: Áp dụng thuật toán Canny để phát hiện biên\n",
    "edges = cv2.Canny(\n",
    "    gray_image,\n",
    "    threshold1=100,  # Ngưỡng dưới\n",
    "    threshold2=200   # Ngưỡng trên\n",
    ")\n",
    "\n",
    "# Bước 4: Lưu kết quả ảnh chứa biên\n",
    "cv2.imwrite(\"cau1.2_canny_edges.jpg\", edges)\n",
    "\n",
    "# Thông báo hoàn tất\n",
    "print(\"Đã lưu ảnh biên cạnh tại 'cau1.2_canny_edges.jpg'\")\n"
   ]
  },
  {
   "cell_type": "code",
   "execution_count": 12,
   "id": "b81b322a",
   "metadata": {},
   "outputs": [
    {
     "name": "stdout",
     "output_type": "stream",
     "text": [
      "Đã lưu ảnh với kênh màu hoán đổi tại 'cau1.3_swapped.jpg'\n"
     ]
    }
   ],
   "source": [
    "#1.3. Đổi màu ảnh bằng cách hoán đổi kênh màu theo thứ tự (ví dụ: BGR → BRG) và lưu thành tên dạng `[ten_anh]_swapped.jpg`.\n",
    "import cv2\n",
    "\n",
    "# Bước 1: Đọc ảnh gốc \n",
    "image = cv2.imread(\"cau1.jpg\")\n",
    "\n",
    "# Bước 2: Hoán đổi kênh màu: đổi kênh G và R (BGR → BRG)\n",
    "swapped_image = image.copy()\n",
    "swapped_image[:, :, [1, 2]] = swapped_image[:, :, [2, 1]]  # G ↔ R\n",
    "\n",
    "# Bước 3: Lưu ảnh sau khi hoán đổi kênh\n",
    "cv2.imwrite(\"cau1.3_swapped.jpg\", swapped_image)\n",
    "\n",
    "# Thông báo hoàn tất\n",
    "print(\"Đã lưu ảnh với kênh màu hoán đổi tại 'cau1.3_swapped.jpg'\")\n"
   ]
  },
  {
   "cell_type": "code",
   "execution_count": 8,
   "id": "48bc7301",
   "metadata": {},
   "outputs": [
    {
     "name": "stdout",
     "output_type": "stream",
     "text": [
      "Đã lưu các kênh Y, Cr, Cb thành 3 ảnh:\n",
      " - cau1.4_Y.jpg\n",
      " - cau1.4_Cr.jpg\n",
      " - cau1.4_Cb.jpg\n"
     ]
    }
   ],
   "source": [
    "import cv2\n",
    "\n",
    "# Bước 1: Đọc ảnh gốc\n",
    "image = cv2.imread(\"cau1.jpg\")\n",
    "\n",
    "# Kiểm tra nếu ảnh không đọc được\n",
    "if image is None:\n",
    "    print(\"Không tìm thấy ảnh! Hãy kiểm tra tên file hoặc đường dẫn.\")\n",
    "    exit()\n",
    "\n",
    "# Bước 2: Chuyển đổi ảnh sang không gian màu YCrCb\n",
    "ycrcb_image = cv2.cvtColor(image, cv2.COLOR_BGR2YCrCb)\n",
    "\n",
    "# Bước 3: Tách các kênh Y, Cr, Cb\n",
    "Y, Cr, Cb = cv2.split(ycrcb_image)\n",
    "\n",
    "# Bước 4: Lưu các ảnh grayscale tương ứng của từng kênh\n",
    "cv2.imwrite(\"cau1.4_Y.jpg\", Y)\n",
    "cv2.imwrite(\"cau1.4_Cr.jpg\", Cr)\n",
    "cv2.imwrite(\"cau1.4_Cb.jpg\", Cb)\n",
    "\n",
    "# Thông báo hoàn tất\n",
    "print(\"Đã lưu các kênh Y, Cr, Cb thành 3 ảnh:\")\n",
    "print(\" - cau1.4_Y.jpg\")\n",
    "print(\" - cau1.4_Cr.jpg\")\n",
    "print(\" - cau1.4_Cb.jpg\")\n"
   ]
  },
  {
   "cell_type": "markdown",
   "id": "1c911fef",
   "metadata": {},
   "source": [
    "### Câu 2 (4 điểm) Viết một chương trình Python sử dụng OpenCV để tạo menu tương tác cho phép người dùng chọn các kỹ thuật biến đổi hình học và xử lý ảnh nâng cao từ một danh sách, áp dụng đồng thời cho nhiều ảnh.\n",
    "\n",
    "### Yêu cầu:\n",
    "\n",
    "1. Menu gồm:  \n",
    "* Phóng to ảnh (Zoom bằng resize) (0.5 điểm)  \n",
    "* Xoay ảnh (góc ngẫu nhiên từ 0–360 độ) (0.5 điểm)  \n",
    "* Lật ảnh ngang (0.5 điểm)  \n",
    "* Lật ảnh dọc (0.5 điểm)  \n",
    "* Cắt ảnh (crop ngẫu nhiên vùng giữa ảnh) (0.5 điểm)  \n",
    "* Thêm viền (padding màu ngẫu nhiên) (0.5 điểm)\n",
    "\n",
    "2. Chương trình xử lý đồng thời 3 ảnh bất kỳ do sinh viên tự chọn (có thể chọn bằng đường dẫn file hoặc nhập tên ảnh tùy ý). (0.5 điểm)\n",
    "\n",
    "3. Phím tương ứng để kích hoạt các phương pháp xử lý:  \n",
    "* Z: Zoom  \n",
    "* T: Rotate  \n",
    "* H: Horizontal Flip  \n",
    "* V: Vertical Flip  \n",
    "* C: Crop  \n",
    "* P: Padding (0.5 điểm)\n",
    "\n",
    "4. Lưu file kết quả với định dạng: `result_[phương pháp]_[tên ảnh gốc].jpg`  \n",
    "   Ví dụ: `result_crop_cat.jpg`, `result_rotate_image1.jpg` (0.5 điểm)\n"
   ]
  },
  {
   "cell_type": "code",
   "execution_count": 20,
   "id": "752eda62",
   "metadata": {},
   "outputs": [
    {
     "name": "stdout",
     "output_type": "stream",
     "text": [
      "Chọn phím để áp dụng biến đổi:\n",
      "Z: Zoom | T: Rotate | H: Horizontal Flip | V: Vertical Flip | C: Crop | P: Padding\n",
      "Đã lưu: result_padding_xedua.jpg\n",
      "Đã lưu: result_padding_ho.jpg\n",
      "Đã lưu: result_padding_sutu.jpg\n"
     ]
    }
   ],
   "source": [
    "import cv2\n",
    "import random\n",
    "import os\n",
    "\n",
    "# Danh sách ảnh cần xử lý (đảm bảo các ảnh nằm trong cùng thư mục chạy code)\n",
    "image_paths = [\n",
    "    \"xedua.jpg\",\n",
    "    \"ho.jpg\",\n",
    "    \"sutu.jpg\"\n",
    "]\n",
    "\n",
    "def zoom(image):\n",
    "    return cv2.resize(image, None, fx=1.5, fy=1.5, interpolation=cv2.INTER_LINEAR)\n",
    "\n",
    "def rotate(image):\n",
    "    angle = random.uniform(0, 360)\n",
    "    h, w = image.shape[:2]\n",
    "    center = (w // 2, h // 2)\n",
    "    matrix = cv2.getRotationMatrix2D(center, angle, 1.0)\n",
    "    return cv2.warpAffine(image, matrix, (w, h))\n",
    "\n",
    "def flip_horizontal(image):\n",
    "    return cv2.flip(image, 1)\n",
    "\n",
    "def flip_vertical(image):\n",
    "    return cv2.flip(image, 0)\n",
    "\n",
    "def crop(image):\n",
    "    h, w = image.shape[:2]\n",
    "    top = h // 4\n",
    "    bottom = 3 * h // 4\n",
    "    left = w // 4\n",
    "    right = 3 * w // 4\n",
    "    return image[top:bottom, left:right]\n",
    "\n",
    "def padding(image):\n",
    "    top, bottom = 50, 50\n",
    "    left, right = 50, 50\n",
    "    color = [random.randint(0,255), random.randint(0,255), random.randint(0,255)]\n",
    "    return cv2.copyMakeBorder(image, top, bottom, left, right, cv2.BORDER_CONSTANT, value=color)\n",
    "\n",
    "# Mapping phím chức năng với hàm xử lý\n",
    "operations = {\n",
    "    'Z': ('zoom', zoom),\n",
    "    'T': ('rotate', rotate),\n",
    "    'H': ('flipH', flip_horizontal),\n",
    "    'V': ('flipV', flip_vertical),\n",
    "    'C': ('crop', crop),\n",
    "    'P': ('padding', padding)\n",
    "}\n",
    "\n",
    "print(\"Chọn phím để áp dụng biến đổi:\")\n",
    "print(\"Z: Zoom | T: Rotate | H: Horizontal Flip | V: Vertical Flip | C: Crop | P: Padding\")\n",
    "\n",
    "key = input(\"Nhập phím: \").upper()\n",
    "\n",
    "if key in operations:\n",
    "    method_name, method_func = operations[key]\n",
    "    for path in image_paths:\n",
    "        image = cv2.imread(path)\n",
    "        if image is None:\n",
    "            print(f\"Không thể đọc ảnh: {path}\")\n",
    "            continue\n",
    "        result = method_func(image)\n",
    "        filename = os.path.basename(path)\n",
    "        output_name = f\"result_{method_name}_{filename}\"\n",
    "        cv2.imwrite(output_name, result)\n",
    "        print(f\"Đã lưu: {output_name}\")\n",
    "else:\n",
    "    print(\"Phím không hợp lệ.\")\n"
   ]
  },
  {
   "cell_type": "markdown",
   "id": "82339d57",
   "metadata": {},
   "source": [
    "### Câu 3 (4 điểm) Viết một chương trình Python để xử lý 3 ảnh bất kỳ do sinh viên tự chọn.\n",
    "\n",
    "* Thêm viền đen 20 pixel cho ảnh đầu tiên. (0.5 điểm)  \n",
    "* Xoay ảnh thứ hai 45 độ và phóng to 1.5 lần. (0.5 điểm)  \n",
    "* Tăng kích thước ảnh thứ ba lên 4 lần, sau đó áp dụng Bilateral Filter với tham số tùy chọn. (1.5 điểm)  \n",
    "* Thay đổi độ sáng và độ tương phản ảnh thứ ba theo công thức:\n",
    "\n",
    "$$\n",
    "I_{out}(x, y) = \\alpha \\cdot I_{in}(x, y) + \\beta\n",
    "$$\n",
    "\n",
    "Trong đó:  \n",
    "\n",
    "$$\n",
    "\\alpha \\in [0.6, 2.0], \\quad \\beta \\in [-60, 60]\n",
    "$$\n",
    "\n",
    "Giá trị đầu ra cần được giới hạn trong khoảng [0, 255] bằng công thức:\n",
    "\n",
    "$$\n",
    "I_{out}(x, y) = \\text{clip}(I_{out}(x, y), 0, 255)\n",
    "$$\n"
   ]
  },
  {
   "cell_type": "code",
   "execution_count": 23,
   "id": "a558b39e",
   "metadata": {},
   "outputs": [
    {
     "data": {
      "text/plain": [
       "True"
      ]
     },
     "execution_count": 23,
     "metadata": {},
     "output_type": "execute_result"
    }
   ],
   "source": [
    "import cv2\n",
    "import numpy as np\n",
    "import os\n",
    "\n",
    "output_dir = \".\"  \n",
    "\n",
    "# Ảnh 1: Thêm viền đen 20 pixel\n",
    "image1 = cv2.imread(\"ho.jpg\")\n",
    "bordered = cv2.copyMakeBorder(image1, 20, 20, 20, 20, cv2.BORDER_CONSTANT, value=(0, 0, 0))\n",
    "cv2.imwrite(os.path.join(output_dir, \"cau3.1_bordered.jpg\"), bordered)\n",
    "\n",
    "# Ảnh 2: Xoay 45 độ và phóng to 1.5 lần\n",
    "image2 = cv2.imread(\"sutu.jpg\")\n",
    "(h2, w2) = image2.shape[:2]\n",
    "center = (w2 // 2, h2 // 2)\n",
    "matrix = cv2.getRotationMatrix2D(center, 45, 1.5)\n",
    "rotated_scaled = cv2.warpAffine(image2, matrix, (int(w2 * 2), int(h2 * 2)))\n",
    "cv2.imwrite(os.path.join(output_dir, \"cau3.2_rotated_scaled.jpg\"), rotated_scaled)\n",
    "\n",
    "# Ảnh 3: Phóng to 4 lần và áp dụng Bilateral Filter\n",
    "image3 = cv2.imread(\"xedua.jpg\")\n",
    "resized = cv2.resize(image3, None, fx=4, fy=4, interpolation=cv2.INTER_CUBIC)\n",
    "filtered = cv2.bilateralFilter(resized, d=9, sigmaColor=75, sigmaSpace=75)\n",
    "cv2.imwrite(os.path.join(output_dir, \"cau3.3_resized_filtered.jpg\"), filtered)\n",
    "\n",
    "# Thay đổi độ sáng và tương phản ảnh 3 theo công thức\n",
    "alpha = 1.5  # thuộc [0.6, 2.0]\n",
    "beta = 40    # thuộc [-60, 60]\n",
    "output_image = np.clip(alpha * filtered + beta, 0, 255).astype(np.uint8)\n",
    "cv2.imwrite(os.path.join(output_dir, \"cau3.4_brightness_contrast.jpg\"), output_image)\n"
   ]
  },
  {
   "cell_type": "markdown",
   "id": "216fc23c",
   "metadata": {},
   "source": [
    "# Chúc các bạn thi may mắn và đạt điểm 10."
   ]
  }
 ],
 "metadata": {
  "kernelspec": {
   "display_name": "Python 3",
   "language": "python",
   "name": "python3"
  },
  "language_info": {
   "codemirror_mode": {
    "name": "ipython",
    "version": 3
   },
   "file_extension": ".py",
   "mimetype": "text/x-python",
   "name": "python",
   "nbconvert_exporter": "python",
   "pygments_lexer": "ipython3",
   "version": "3.13.5"
  }
 },
 "nbformat": 4,
 "nbformat_minor": 5
}
